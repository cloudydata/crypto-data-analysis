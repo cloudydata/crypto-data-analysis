{
 "cells": [
  {
   "cell_type": "code",
   "execution_count": 34,
   "metadata": {},
   "outputs": [],
   "source": [
    "import pandas as pd\n",
    "import numpy as np"
   ]
  },
  {
   "cell_type": "code",
   "execution_count": 41,
   "metadata": {},
   "outputs": [],
   "source": [
    "df = pd.read_pickle(\"btc.pickle\")"
   ]
  },
  {
   "cell_type": "code",
   "execution_count": 42,
   "metadata": {},
   "outputs": [],
   "source": [
    "# df1 = pd.DataFrame(df,index=pd.date_range(start='2016-07-01',end='2019-01-31',  freq='M'),columns=['hashrate','price'])"
   ]
  },
  {
   "cell_type": "code",
   "execution_count": null,
   "metadata": {},
   "outputs": [],
   "source": []
  },
  {
   "cell_type": "code",
   "execution_count": 43,
   "metadata": {},
   "outputs": [],
   "source": [
    "df2 = df[['price','hashrate']]\n",
    "df_ewm = pd.DataFrame(df2.ewm(com=.5,min_periods=7).mean(),index=pd.date_range(start='2016-06-01',end='2019-02-01',  freq='M'))\n",
    "df_pct_change = df_ewm.pct_change()[1:]"
   ]
  },
  {
   "cell_type": "code",
   "execution_count": null,
   "metadata": {},
   "outputs": [],
   "source": []
  },
  {
   "cell_type": "code",
   "execution_count": null,
   "metadata": {},
   "outputs": [],
   "source": []
  },
  {
   "cell_type": "code",
   "execution_count": 44,
   "metadata": {},
   "outputs": [],
   "source": [
    "# df_pct_change = df1.pct_change()"
   ]
  },
  {
   "cell_type": "code",
   "execution_count": 45,
   "metadata": {},
   "outputs": [],
   "source": [
    "df_pct_change['price'] = df_pct_change['price'].apply(lambda x:x+1)\n",
    "df_pct_change['hashrate'] = df_pct_change['hashrate'].apply(lambda x:x+1)\n",
    "\n",
    "\n",
    "\n",
    "df_pct_change['price_change / hashrate_change'] = df_pct_change['price'] / df_pct_change['hashrate']"
   ]
  },
  {
   "cell_type": "code",
   "execution_count": 46,
   "metadata": {},
   "outputs": [
    {
     "data": {
      "text/html": [
       "<div>\n",
       "<style scoped>\n",
       "    .dataframe tbody tr th:only-of-type {\n",
       "        vertical-align: middle;\n",
       "    }\n",
       "\n",
       "    .dataframe tbody tr th {\n",
       "        vertical-align: top;\n",
       "    }\n",
       "\n",
       "    .dataframe thead th {\n",
       "        text-align: right;\n",
       "    }\n",
       "</style>\n",
       "<table border=\"1\" class=\"dataframe\">\n",
       "  <thead>\n",
       "    <tr style=\"text-align: right;\">\n",
       "      <th></th>\n",
       "      <th>price</th>\n",
       "      <th>hashrate</th>\n",
       "      <th>price_change / hashrate_change</th>\n",
       "    </tr>\n",
       "  </thead>\n",
       "  <tbody>\n",
       "    <tr>\n",
       "      <th>2016-07-31</th>\n",
       "      <td>0.993511</td>\n",
       "      <td>0.935259</td>\n",
       "      <td>1.062284</td>\n",
       "    </tr>\n",
       "    <tr>\n",
       "      <th>2016-08-31</th>\n",
       "      <td>0.894966</td>\n",
       "      <td>1.100886</td>\n",
       "      <td>0.812950</td>\n",
       "    </tr>\n",
       "    <tr>\n",
       "      <th>2016-09-30</th>\n",
       "      <td>1.051983</td>\n",
       "      <td>1.059128</td>\n",
       "      <td>0.993254</td>\n",
       "    </tr>\n",
       "    <tr>\n",
       "      <th>2016-10-31</th>\n",
       "      <td>1.157340</td>\n",
       "      <td>1.210334</td>\n",
       "      <td>0.956216</td>\n",
       "    </tr>\n",
       "    <tr>\n",
       "      <th>2016-11-30</th>\n",
       "      <td>1.051451</td>\n",
       "      <td>1.015322</td>\n",
       "      <td>1.035585</td>\n",
       "    </tr>\n",
       "    <tr>\n",
       "      <th>2016-12-31</th>\n",
       "      <td>1.294330</td>\n",
       "      <td>1.198935</td>\n",
       "      <td>1.079566</td>\n",
       "    </tr>\n",
       "    <tr>\n",
       "      <th>2017-01-31</th>\n",
       "      <td>0.976460</td>\n",
       "      <td>1.180387</td>\n",
       "      <td>0.827236</td>\n",
       "    </tr>\n",
       "    <tr>\n",
       "      <th>2017-02-28</th>\n",
       "      <td>1.273606</td>\n",
       "      <td>1.144190</td>\n",
       "      <td>1.113107</td>\n",
       "    </tr>\n",
       "    <tr>\n",
       "      <th>2017-03-31</th>\n",
       "      <td>0.886175</td>\n",
       "      <td>1.079164</td>\n",
       "      <td>0.821168</td>\n",
       "    </tr>\n",
       "    <tr>\n",
       "      <th>2017-04-30</th>\n",
       "      <td>1.271178</td>\n",
       "      <td>1.126460</td>\n",
       "      <td>1.128472</td>\n",
       "    </tr>\n",
       "    <tr>\n",
       "      <th>2017-05-31</th>\n",
       "      <td>1.675525</td>\n",
       "      <td>1.239496</td>\n",
       "      <td>1.351779</td>\n",
       "    </tr>\n",
       "    <tr>\n",
       "      <th>2017-06-30</th>\n",
       "      <td>1.126202</td>\n",
       "      <td>0.947156</td>\n",
       "      <td>1.189035</td>\n",
       "    </tr>\n",
       "    <tr>\n",
       "      <th>2017-07-31</th>\n",
       "      <td>1.090786</td>\n",
       "      <td>1.314527</td>\n",
       "      <td>0.829793</td>\n",
       "    </tr>\n",
       "    <tr>\n",
       "      <th>2017-08-31</th>\n",
       "      <td>1.684943</td>\n",
       "      <td>1.099313</td>\n",
       "      <td>1.532724</td>\n",
       "    </tr>\n",
       "    <tr>\n",
       "      <th>2017-09-30</th>\n",
       "      <td>0.916588</td>\n",
       "      <td>1.313127</td>\n",
       "      <td>0.698019</td>\n",
       "    </tr>\n",
       "    <tr>\n",
       "      <th>2017-10-31</th>\n",
       "      <td>1.454930</td>\n",
       "      <td>1.162480</td>\n",
       "      <td>1.251574</td>\n",
       "    </tr>\n",
       "    <tr>\n",
       "      <th>2017-11-30</th>\n",
       "      <td>1.631396</td>\n",
       "      <td>1.059009</td>\n",
       "      <td>1.540494</td>\n",
       "    </tr>\n",
       "    <tr>\n",
       "      <th>2017-12-31</th>\n",
       "      <td>1.341707</td>\n",
       "      <td>1.319840</td>\n",
       "      <td>1.016568</td>\n",
       "    </tr>\n",
       "    <tr>\n",
       "      <th>2018-01-31</th>\n",
       "      <td>0.772381</td>\n",
       "      <td>1.282527</td>\n",
       "      <td>0.602234</td>\n",
       "    </tr>\n",
       "    <tr>\n",
       "      <th>2018-02-28</th>\n",
       "      <td>1.008095</td>\n",
       "      <td>1.275681</td>\n",
       "      <td>0.790241</td>\n",
       "    </tr>\n",
       "    <tr>\n",
       "      <th>2018-03-31</th>\n",
       "      <td>0.672414</td>\n",
       "      <td>1.039425</td>\n",
       "      <td>0.646910</td>\n",
       "    </tr>\n",
       "    <tr>\n",
       "      <th>2018-04-30</th>\n",
       "      <td>1.315830</td>\n",
       "      <td>1.169153</td>\n",
       "      <td>1.125456</td>\n",
       "    </tr>\n",
       "    <tr>\n",
       "      <th>2018-05-31</th>\n",
       "      <td>0.803665</td>\n",
       "      <td>1.199528</td>\n",
       "      <td>0.669984</td>\n",
       "    </tr>\n",
       "    <tr>\n",
       "      <th>2018-06-30</th>\n",
       "      <td>0.836180</td>\n",
       "      <td>1.040605</td>\n",
       "      <td>0.803552</td>\n",
       "    </tr>\n",
       "    <tr>\n",
       "      <th>2018-07-31</th>\n",
       "      <td>1.279757</td>\n",
       "      <td>1.153691</td>\n",
       "      <td>1.109272</td>\n",
       "    </tr>\n",
       "    <tr>\n",
       "      <th>2018-08-31</th>\n",
       "      <td>0.872673</td>\n",
       "      <td>1.161975</td>\n",
       "      <td>0.751026</td>\n",
       "    </tr>\n",
       "    <tr>\n",
       "      <th>2018-09-30</th>\n",
       "      <td>0.945152</td>\n",
       "      <td>1.107776</td>\n",
       "      <td>0.853198</td>\n",
       "    </tr>\n",
       "    <tr>\n",
       "      <th>2018-10-31</th>\n",
       "      <td>0.960498</td>\n",
       "      <td>1.009974</td>\n",
       "      <td>0.951013</td>\n",
       "    </tr>\n",
       "    <tr>\n",
       "      <th>2018-11-30</th>\n",
       "      <td>0.654237</td>\n",
       "      <td>0.642605</td>\n",
       "      <td>1.018101</td>\n",
       "    </tr>\n",
       "    <tr>\n",
       "      <th>2018-12-31</th>\n",
       "      <td>0.920142</td>\n",
       "      <td>1.209453</td>\n",
       "      <td>0.760792</td>\n",
       "    </tr>\n",
       "    <tr>\n",
       "      <th>2019-01-31</th>\n",
       "      <td>0.906330</td>\n",
       "      <td>0.955699</td>\n",
       "      <td>0.948342</td>\n",
       "    </tr>\n",
       "  </tbody>\n",
       "</table>\n",
       "</div>"
      ],
      "text/plain": [
       "               price  hashrate  price_change / hashrate_change\n",
       "2016-07-31  0.993511  0.935259                        1.062284\n",
       "2016-08-31  0.894966  1.100886                        0.812950\n",
       "2016-09-30  1.051983  1.059128                        0.993254\n",
       "2016-10-31  1.157340  1.210334                        0.956216\n",
       "2016-11-30  1.051451  1.015322                        1.035585\n",
       "2016-12-31  1.294330  1.198935                        1.079566\n",
       "2017-01-31  0.976460  1.180387                        0.827236\n",
       "2017-02-28  1.273606  1.144190                        1.113107\n",
       "2017-03-31  0.886175  1.079164                        0.821168\n",
       "2017-04-30  1.271178  1.126460                        1.128472\n",
       "2017-05-31  1.675525  1.239496                        1.351779\n",
       "2017-06-30  1.126202  0.947156                        1.189035\n",
       "2017-07-31  1.090786  1.314527                        0.829793\n",
       "2017-08-31  1.684943  1.099313                        1.532724\n",
       "2017-09-30  0.916588  1.313127                        0.698019\n",
       "2017-10-31  1.454930  1.162480                        1.251574\n",
       "2017-11-30  1.631396  1.059009                        1.540494\n",
       "2017-12-31  1.341707  1.319840                        1.016568\n",
       "2018-01-31  0.772381  1.282527                        0.602234\n",
       "2018-02-28  1.008095  1.275681                        0.790241\n",
       "2018-03-31  0.672414  1.039425                        0.646910\n",
       "2018-04-30  1.315830  1.169153                        1.125456\n",
       "2018-05-31  0.803665  1.199528                        0.669984\n",
       "2018-06-30  0.836180  1.040605                        0.803552\n",
       "2018-07-31  1.279757  1.153691                        1.109272\n",
       "2018-08-31  0.872673  1.161975                        0.751026\n",
       "2018-09-30  0.945152  1.107776                        0.853198\n",
       "2018-10-31  0.960498  1.009974                        0.951013\n",
       "2018-11-30  0.654237  0.642605                        1.018101\n",
       "2018-12-31  0.920142  1.209453                        0.760792\n",
       "2019-01-31  0.906330  0.955699                        0.948342"
      ]
     },
     "execution_count": 46,
     "metadata": {},
     "output_type": "execute_result"
    }
   ],
   "source": [
    "df_pct_change"
   ]
  },
  {
   "cell_type": "markdown",
   "metadata": {},
   "source": [
    "# Monthly Average Hashrate Change"
   ]
  },
  {
   "cell_type": "code",
   "execution_count": 47,
   "metadata": {},
   "outputs": [
    {
     "data": {
      "text/plain": [
       "1.1210678657676594"
      ]
     },
     "execution_count": 47,
     "metadata": {},
     "output_type": "execute_result"
    }
   ],
   "source": [
    "np.average(df_pct_change['hashrate'].values)"
   ]
  },
  {
   "cell_type": "code",
   "execution_count": 48,
   "metadata": {},
   "outputs": [
    {
     "data": {
      "text/plain": [
       "1.08775587018978"
      ]
     },
     "execution_count": 48,
     "metadata": {},
     "output_type": "execute_result"
    }
   ],
   "source": [
    "np.average(df_pct_change['price'].values)"
   ]
  },
  {
   "cell_type": "code",
   "execution_count": null,
   "metadata": {},
   "outputs": [],
   "source": []
  },
  {
   "cell_type": "markdown",
   "metadata": {},
   "source": [
    "# Monthly Average Price Change / Hashrate Change"
   ]
  },
  {
   "cell_type": "code",
   "execution_count": 50,
   "metadata": {},
   "outputs": [
    {
     "data": {
      "text/plain": [
       "0.9764498735946626"
      ]
     },
     "execution_count": 50,
     "metadata": {},
     "output_type": "execute_result"
    }
   ],
   "source": [
    "np.average(df_pct_change['price_change / hashrate_change'])"
   ]
  },
  {
   "cell_type": "code",
   "execution_count": null,
   "metadata": {},
   "outputs": [],
   "source": []
  },
  {
   "cell_type": "markdown",
   "metadata": {},
   "source": [
    "# Count Where Price Change Greater Than 1\n"
   ]
  },
  {
   "cell_type": "code",
   "execution_count": 51,
   "metadata": {},
   "outputs": [],
   "source": [
    "df_pct_change['price_change_positive'] = df_pct_change['price'] >= 1"
   ]
  },
  {
   "cell_type": "code",
   "execution_count": 52,
   "metadata": {},
   "outputs": [
    {
     "data": {
      "text/plain": [
       "16"
      ]
     },
     "execution_count": 52,
     "metadata": {},
     "output_type": "execute_result"
    }
   ],
   "source": [
    "sum(df_pct_change['price_change_positive'])\n"
   ]
  },
  {
   "cell_type": "code",
   "execution_count": 53,
   "metadata": {},
   "outputs": [
    {
     "data": {
      "text/plain": [
       "31"
      ]
     },
     "execution_count": 53,
     "metadata": {},
     "output_type": "execute_result"
    }
   ],
   "source": [
    "len(df_pct_change['price_change_positive'])"
   ]
  },
  {
   "cell_type": "code",
   "execution_count": null,
   "metadata": {},
   "outputs": [],
   "source": []
  },
  {
   "cell_type": "markdown",
   "metadata": {},
   "source": [
    "# Monthly Average Price Change / Hashrate Change .... where price change is positive"
   ]
  },
  {
   "cell_type": "code",
   "execution_count": 54,
   "metadata": {},
   "outputs": [
    {
     "data": {
      "text/plain": [
       "1.1276960555505924"
      ]
     },
     "execution_count": 54,
     "metadata": {},
     "output_type": "execute_result"
    }
   ],
   "source": [
    "np.average(df_pct_change.loc[(df_pct_change['price'] >= 1)]['price_change / hashrate_change'].values)"
   ]
  },
  {
   "cell_type": "code",
   "execution_count": null,
   "metadata": {},
   "outputs": [],
   "source": []
  },
  {
   "cell_type": "markdown",
   "metadata": {},
   "source": [
    "# Monthly Average Price Change / Hashrate Change .... where price change is negative"
   ]
  },
  {
   "cell_type": "code",
   "execution_count": 55,
   "metadata": {},
   "outputs": [
    {
     "data": {
      "text/plain": [
       "0.8151206128416707"
      ]
     },
     "execution_count": 55,
     "metadata": {},
     "output_type": "execute_result"
    }
   ],
   "source": [
    "np.average(df_pct_change.loc[(df_pct_change['price'] <= 1)]['price_change / hashrate_change'].values)"
   ]
  },
  {
   "cell_type": "code",
   "execution_count": null,
   "metadata": {},
   "outputs": [],
   "source": []
  },
  {
   "cell_type": "markdown",
   "metadata": {},
   "source": [
    "# Weighted Average"
   ]
  },
  {
   "cell_type": "code",
   "execution_count": 56,
   "metadata": {},
   "outputs": [
    {
     "data": {
      "text/plain": [
       "0.9760322580645162"
      ]
     },
     "execution_count": 56,
     "metadata": {},
     "output_type": "execute_result"
    }
   ],
   "source": [
    "((1.127*(16/31))+(.815*(15/31)))"
   ]
  },
  {
   "cell_type": "code",
   "execution_count": null,
   "metadata": {},
   "outputs": [],
   "source": []
  }
 ],
 "metadata": {
  "kernelspec": {
   "display_name": "Python 3",
   "language": "python",
   "name": "python3"
  },
  "language_info": {
   "codemirror_mode": {
    "name": "ipython",
    "version": 3
   },
   "file_extension": ".py",
   "mimetype": "text/x-python",
   "name": "python",
   "nbconvert_exporter": "python",
   "pygments_lexer": "ipython3",
   "version": "3.6.6"
  }
 },
 "nbformat": 4,
 "nbformat_minor": 2
}
