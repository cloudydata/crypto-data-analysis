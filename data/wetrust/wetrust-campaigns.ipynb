{
 "cells": [
  {
   "cell_type": "code",
   "execution_count": 1,
   "metadata": {},
   "outputs": [],
   "source": [
    "import requests\n",
    "from lxml.html import fromstring\n",
    "import pandas as pd\n",
    "import time\n"
   ]
  },
  {
   "cell_type": "code",
   "execution_count": 7,
   "metadata": {},
   "outputs": [],
   "source": [
    "wetrust = dict()"
   ]
  },
  {
   "cell_type": "code",
   "execution_count": 8,
   "metadata": {},
   "outputs": [],
   "source": [
    "main_page = fromstring(requests.get(\"https://spring.wetrust.io/\").content)\n",
    "campaign_href = [i[1:] for i in main_page.xpath(\"//main/div/div/div/div/div/div/a/@href\")]"
   ]
  },
  {
   "cell_type": "code",
   "execution_count": 9,
   "metadata": {},
   "outputs": [],
   "source": [
    "wetrust[\"campaign\"] = []\n",
    "wetrust[\"current\"] = []\n",
    "wetrust[\"goal\"] = []\n",
    "wetrust[\"time\"] = []\n",
    "\n",
    "timestamp = int(time.time())\n",
    "\n",
    "while campaign_href:\n",
    "    campaign = campaign_href.pop()\n",
    "    org_page = fromstring(requests.get(\"https://spring.wetrust.io/{}\".format(campaign)).content)\n",
    "\n",
    "    if len(org_page.xpath(\"//progress/@value\"))>0:\n",
    "        wetrust[\"campaign\"].append(campaign)\n",
    "        wetrust[\"current\"].append(float(org_page.xpath(\"//progress/@value\")[0])/1000000000000000000)\n",
    "        wetrust[\"goal\"].append(int(org_page.xpath(\"//progress/@max\")[0])/1000000000000000000)\n",
    "        wetrust[\"time\"].append(timestamp)"
   ]
  },
  {
   "cell_type": "code",
   "execution_count": 10,
   "metadata": {},
   "outputs": [
    {
     "data": {
      "text/html": [
       "<div>\n",
       "<style scoped>\n",
       "    .dataframe tbody tr th:only-of-type {\n",
       "        vertical-align: middle;\n",
       "    }\n",
       "\n",
       "    .dataframe tbody tr th {\n",
       "        vertical-align: top;\n",
       "    }\n",
       "\n",
       "    .dataframe thead th {\n",
       "        text-align: right;\n",
       "    }\n",
       "</style>\n",
       "<table border=\"1\" class=\"dataframe\">\n",
       "  <thead>\n",
       "    <tr style=\"text-align: right;\">\n",
       "      <th></th>\n",
       "      <th>campaign</th>\n",
       "      <th>current</th>\n",
       "      <th>goal</th>\n",
       "      <th>time</th>\n",
       "    </tr>\n",
       "  </thead>\n",
       "  <tbody>\n",
       "    <tr>\n",
       "      <th>0</th>\n",
       "      <td>miri</td>\n",
       "      <td>311.534751</td>\n",
       "      <td>500.0</td>\n",
       "      <td>1550078483</td>\n",
       "    </tr>\n",
       "    <tr>\n",
       "      <th>1</th>\n",
       "      <td>lupus</td>\n",
       "      <td>57.606028</td>\n",
       "      <td>100.0</td>\n",
       "      <td>1550078483</td>\n",
       "    </tr>\n",
       "    <tr>\n",
       "      <th>2</th>\n",
       "      <td>rainforest-trust</td>\n",
       "      <td>3.868815</td>\n",
       "      <td>100.0</td>\n",
       "      <td>1550078483</td>\n",
       "    </tr>\n",
       "    <tr>\n",
       "      <th>3</th>\n",
       "      <td>lava-mae</td>\n",
       "      <td>2.817000</td>\n",
       "      <td>100.0</td>\n",
       "      <td>1550078483</td>\n",
       "    </tr>\n",
       "    <tr>\n",
       "      <th>4</th>\n",
       "      <td>code-for-america</td>\n",
       "      <td>1.308000</td>\n",
       "      <td>100.0</td>\n",
       "      <td>1550078483</td>\n",
       "    </tr>\n",
       "    <tr>\n",
       "      <th>5</th>\n",
       "      <td>learning-equality</td>\n",
       "      <td>1.000483</td>\n",
       "      <td>100.0</td>\n",
       "      <td>1550078483</td>\n",
       "    </tr>\n",
       "    <tr>\n",
       "      <th>6</th>\n",
       "      <td>fight-for-the-future</td>\n",
       "      <td>0.481000</td>\n",
       "      <td>100.0</td>\n",
       "      <td>1550078483</td>\n",
       "    </tr>\n",
       "    <tr>\n",
       "      <th>7</th>\n",
       "      <td>surgeons-of-hope</td>\n",
       "      <td>0.476000</td>\n",
       "      <td>100.0</td>\n",
       "      <td>1550078483</td>\n",
       "    </tr>\n",
       "    <tr>\n",
       "      <th>8</th>\n",
       "      <td>ubuntu-foundation</td>\n",
       "      <td>0.352000</td>\n",
       "      <td>100.0</td>\n",
       "      <td>1550078483</td>\n",
       "    </tr>\n",
       "    <tr>\n",
       "      <th>9</th>\n",
       "      <td>bridge-global</td>\n",
       "      <td>0.319000</td>\n",
       "      <td>100.0</td>\n",
       "      <td>1550078483</td>\n",
       "    </tr>\n",
       "    <tr>\n",
       "      <th>10</th>\n",
       "      <td>cavalier-rescue</td>\n",
       "      <td>0.319000</td>\n",
       "      <td>100.0</td>\n",
       "      <td>1550078483</td>\n",
       "    </tr>\n",
       "    <tr>\n",
       "      <th>11</th>\n",
       "      <td>airdropvenezueala</td>\n",
       "      <td>0.300000</td>\n",
       "      <td>100.0</td>\n",
       "      <td>1550078483</td>\n",
       "    </tr>\n",
       "    <tr>\n",
       "      <th>12</th>\n",
       "      <td>vietseeds</td>\n",
       "      <td>0.279000</td>\n",
       "      <td>100.0</td>\n",
       "      <td>1550078483</td>\n",
       "    </tr>\n",
       "    <tr>\n",
       "      <th>13</th>\n",
       "      <td>equity-in-access</td>\n",
       "      <td>0.258000</td>\n",
       "      <td>100.0</td>\n",
       "      <td>1550078483</td>\n",
       "    </tr>\n",
       "    <tr>\n",
       "      <th>14</th>\n",
       "      <td>african-advocacy-network</td>\n",
       "      <td>0.249000</td>\n",
       "      <td>100.0</td>\n",
       "      <td>1550078483</td>\n",
       "    </tr>\n",
       "    <tr>\n",
       "      <th>15</th>\n",
       "      <td>cultural-heritage-imaging</td>\n",
       "      <td>0.126000</td>\n",
       "      <td>100.0</td>\n",
       "      <td>1550078483</td>\n",
       "    </tr>\n",
       "    <tr>\n",
       "      <th>16</th>\n",
       "      <td>iskme</td>\n",
       "      <td>0.000000</td>\n",
       "      <td>100.0</td>\n",
       "      <td>1550078483</td>\n",
       "    </tr>\n",
       "    <tr>\n",
       "      <th>17</th>\n",
       "      <td>open-library</td>\n",
       "      <td>3.651000</td>\n",
       "      <td>50.0</td>\n",
       "      <td>1550078483</td>\n",
       "    </tr>\n",
       "  </tbody>\n",
       "</table>\n",
       "</div>"
      ],
      "text/plain": [
       "                     campaign     current   goal        time\n",
       "0                        miri  311.534751  500.0  1550078483\n",
       "1                       lupus   57.606028  100.0  1550078483\n",
       "2            rainforest-trust    3.868815  100.0  1550078483\n",
       "3                    lava-mae    2.817000  100.0  1550078483\n",
       "4            code-for-america    1.308000  100.0  1550078483\n",
       "5           learning-equality    1.000483  100.0  1550078483\n",
       "6        fight-for-the-future    0.481000  100.0  1550078483\n",
       "7            surgeons-of-hope    0.476000  100.0  1550078483\n",
       "8           ubuntu-foundation    0.352000  100.0  1550078483\n",
       "9               bridge-global    0.319000  100.0  1550078483\n",
       "10            cavalier-rescue    0.319000  100.0  1550078483\n",
       "11          airdropvenezueala    0.300000  100.0  1550078483\n",
       "12                  vietseeds    0.279000  100.0  1550078483\n",
       "13           equity-in-access    0.258000  100.0  1550078483\n",
       "14   african-advocacy-network    0.249000  100.0  1550078483\n",
       "15  cultural-heritage-imaging    0.126000  100.0  1550078483\n",
       "16                      iskme    0.000000  100.0  1550078483\n",
       "17               open-library    3.651000   50.0  1550078483"
      ]
     },
     "execution_count": 10,
     "metadata": {},
     "output_type": "execute_result"
    }
   ],
   "source": [
    "df = pd.DataFrame(wetrust)\n",
    "df.sort_values([\"goal\",\"current\"],ascending=False,inplace=True)\n",
    "df.reset_index(drop=True,inplace=True)\n",
    "df"
   ]
  },
  {
   "cell_type": "code",
   "execution_count": 11,
   "metadata": {},
   "outputs": [
    {
     "data": {
      "text/plain": [
       "384.94507683634544"
      ]
     },
     "execution_count": 11,
     "metadata": {},
     "output_type": "execute_result"
    }
   ],
   "source": [
    "df['current'].sum()"
   ]
  },
  {
   "cell_type": "code",
   "execution_count": null,
   "metadata": {},
   "outputs": [],
   "source": []
  },
  {
   "cell_type": "code",
   "execution_count": null,
   "metadata": {},
   "outputs": [],
   "source": []
  },
  {
   "cell_type": "code",
   "execution_count": 6,
   "metadata": {},
   "outputs": [
    {
     "data": {
      "text/plain": [
       "384.94507683634544"
      ]
     },
     "execution_count": 6,
     "metadata": {},
     "output_type": "execute_result"
    }
   ],
   "source": [
    "df['current'].sum()"
   ]
  },
  {
   "cell_type": "code",
   "execution_count": null,
   "metadata": {},
   "outputs": [],
   "source": []
  },
  {
   "cell_type": "code",
   "execution_count": null,
   "metadata": {},
   "outputs": [],
   "source": [
    "wetrust_flat = dict()\n",
    "timestamp = int(time.time())\n",
    "\n",
    "while campaign_href:\n",
    "    campaign = campaign_href.pop()\n",
    "    org_page = fromstring(requests.get(\"https://spring.wetrust.io/{}\".format(campaign)).content)\n",
    "\n",
    "    if len(org_page.xpath(\"//progress/@value\"))>0:\n",
    "        wetrust[\"campaign\"].append(campaign)\n",
    "        wetrust[\"current\"].append(float(org_page.xpath(\"//progress/@value\")[0])/1000000000000000000)\n",
    "        wetrust[\"goal\"].append(int(org_page.xpath(\"//progress/@max\")[0])/1000000000000000000)\n",
    "        wetrust[\"time\"].append(timestamp)"
   ]
  },
  {
   "cell_type": "code",
   "execution_count": null,
   "metadata": {},
   "outputs": [],
   "source": []
  },
  {
   "cell_type": "code",
   "execution_count": null,
   "metadata": {},
   "outputs": [],
   "source": []
  },
  {
   "cell_type": "code",
   "execution_count": null,
   "metadata": {},
   "outputs": [],
   "source": [
    "df = pd.DataFrame(wetrust)\n",
    "df.sort_values([\"goal\",\"current\"],ascending=False,inplace=True)\n",
    "df.reset_index(drop=True,inplace=True)\n",
    "df"
   ]
  },
  {
   "cell_type": "code",
   "execution_count": null,
   "metadata": {},
   "outputs": [],
   "source": []
  },
  {
   "cell_type": "code",
   "execution_count": null,
   "metadata": {},
   "outputs": [],
   "source": []
  }
 ],
 "metadata": {
  "kernelspec": {
   "display_name": "Python 3",
   "language": "python",
   "name": "python3"
  },
  "language_info": {
   "codemirror_mode": {
    "name": "ipython",
    "version": 3
   },
   "file_extension": ".py",
   "mimetype": "text/x-python",
   "name": "python",
   "nbconvert_exporter": "python",
   "pygments_lexer": "ipython3",
   "version": "3.7.1"
  }
 },
 "nbformat": 4,
 "nbformat_minor": 2
}
